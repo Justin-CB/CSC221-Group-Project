{
 "cells": [
  {
   "cell_type": "markdown",
   "metadata": {},
   "source": [
    "# Final Project: Web Scraping Wikipedia"
   ]
  },
  {
   "cell_type": "markdown",
   "metadata": {},
   "source": [
    "### Author: <font color='red'>Justin Bester</font>"
   ]
  },
  {
   "cell_type": "code",
   "execution_count": 1,
   "metadata": {},
   "outputs": [],
   "source": [
    "# download & parse the page\n",
    "import urllib\n",
    "url = \"https://en.wikipedia.org/wiki/List_of_state_highways_in_North_Carolina\"\n",
    "from bs4 import BeautifulSoup\n",
    "page = urllib.request.urlopen(url)\n",
    "soup = BeautifulSoup(page, \"lxml\")\n",
    "\n",
    "# get the table\n",
    "table = soup.find(\"table\",class_=\"routelist-top\")\n",
    "#print(table.prettify())\n",
    "\n",
    "# uncomment to print each cell\n",
    "for row in table.find_all(\"tr\"):\n",
    "    cols = row.find_all(\"td\")\n",
    "    heads = row.find_all(\"th\")\n",
    "    #print(len(heads))\n",
    "    for cell in heads:\n",
    "        nop=0\n",
    "        #print(cell)\n",
    "    #print(len(cols))\n",
    "    for cell in cols:\n",
    "        nop=0\n",
    "        #print(cell)\n",
    "\n",
    "#heads[0] = route number\n",
    "#cols[0] = length in miles\n",
    "#cols[1] = length in km\n",
    "#cols[2] = S/W terminus\n",
    "#cols[3] = N/E terminus\n",
    "#cols[4] = formed\n",
    "#cols[5] = removed\n",
    "#cols[6] = notes\n",
    "\n",
    "# We will process current NC State Routes only\n",
    "# We will get the route number, length in mi & km, & year of formation\n",
    "\n",
    "numbers = []\n",
    "lengths_mi = []\n",
    "lengths_km = []\n",
    "years = []\n",
    "for row in table.find_all(\"tr\"):\n",
    "    cells = row.find_all(\"td\")\n",
    "    heads = row.find_all(\"th\")\n",
    "    if len(cells) == 7 and len(heads) == 1:\n",
    "        if cells[5].text.lower().strip() == \"current\":\n",
    "            numbers.append(heads[0].find(\"a\").text.split()[-1])  # .split()[-1] converts NC x to x.\n",
    "            lengths_mi.append(cells[0].text.strip())\n",
    "            lengths_km.append(cells[1].text.strip())\n",
    "            years.append(cells[4].text[1:5])  # The way this is formatted, text comes out like 0YYYY-01-01YYYY\n",
    "\n",
    "#import into dataframe\n",
    "import pandas as pd\n",
    "df = pd.DataFrame([])\n",
    "df[\"Route Number\"]=numbers\n",
    "df[\"Length in Miles\"]=lengths_mi\n",
    "df[\"Length in Kilometers\"]=lengths_km\n",
    "df[\"Year of Formation\"]=years\n",
    "\n",
    "# Save the DataFrame (df) to a CSV file named 'CSC221-webscrape-data.csv' using Panda's to_csv() function\n",
    "\n",
    "# INSERT THE 1 LINE OF CODE REQUIRED TO SAVE THE DATAFRAME TO CSV FILE\n",
    "df.to_csv(\"CSC221-webscrape-data.csv\")"
   ]
  },
  {
   "cell_type": "code",
   "execution_count": 25,
   "metadata": {},
   "outputs": [
    {
     "data": {
      "image/png": "[encoded data removed]",
      "text/plain": [
       "<Figure size 432x288 with 1 Axes>"
      ]
     },
     "metadata": {
      "needs_background": "light"
     },
     "output_type": "display_data"
    }
   ],
   "source": [
    "import re\n",
    "import matplotlib.pyplot as plt\n",
    "\n",
    "col_list = [\"Route Number\", \"Length in Miles\", \"Length in Kilometers\", \"Year of Formation\"]\n",
    "df = pd.read_csv(\"CSC221-webscrape-data.csv\", usecols=col_list)\n",
    "\n",
    "def fix_year(input):\n",
    "    return \"01/01/{}\".format(input)\n",
    "\n",
    "def remove_brackets(s):\n",
    "    return re.sub(r'\\[.*?\\]', '', s)\n",
    "\n",
    "#Data Cleanup\n",
    "df[\"Length in Miles\"] = df[\"Length in Miles\"].apply(remove_brackets)\n",
    "df['Length in Miles'] = df['Length in Miles'].astype(float)\n",
    "df[\"Year of Formation\"] = df[\"Year of Formation\"].apply(fix_year)\n",
    "df[\"Year of Formation\"] = pd.to_datetime(df['Year of Formation'])\n",
    "\n",
    "\n",
    "df = df[[\"Year of Formation\",\"Length in Miles\",\"Length in Kilometers\"]].groupby((df[\"Year of Formation\"].dt.year//10)*10).sum()\n",
    "\n",
    "\n",
    "fig = plt.figure()\n",
    "ax  = fig.add_axes([0,0,1,1])\n",
    "ax.bar(list(df.index.values), list(df[\"Length in Miles\"].values), width=8)\n",
    "ax.set_title('Miles of Road built per decade')\n",
    "plt.show()"
   ]
  },
  {
   "cell_type": "code",
   "execution_count": null,
   "metadata": {},
   "outputs": [],
   "source": []
  },
  {
   "cell_type": "code",
   "execution_count": null,
   "metadata": {},
   "outputs": [],
   "source": []
  },
  {
   "cell_type": "code",
   "execution_count": null,
   "metadata": {},
   "outputs": [],
   "source": []
  }
 ],
 "metadata": {
  "kernelspec": {
   "display_name": "Python 3 (ipykernel)",
   "language": "python",
   "name": "python3"
  },
  "language_info": {
   "codemirror_mode": {
    "name": "ipython",
    "version": 3
   },
   "file_extension": ".py",
   "mimetype": "text/x-python",
   "name": "python",
   "nbconvert_exporter": "python",
   "pygments_lexer": "ipython3",
   "version": "3.9.7"
  }
 },
 "nbformat": 4,
 "nbformat_minor": 4
}
